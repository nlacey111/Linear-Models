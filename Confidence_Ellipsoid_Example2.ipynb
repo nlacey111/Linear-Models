{
 "cells": [
  {
   "cell_type": "code",
   "execution_count": 1,
   "metadata": {},
   "outputs": [],
   "source": [
    "import pandas as pd\n",
    "import numpy as np\n"
   ]
  },
  {
   "cell_type": "markdown",
   "metadata": {},
   "source": [
    "### Part a"
   ]
  },
  {
   "cell_type": "code",
   "execution_count": 2,
   "metadata": {},
   "outputs": [],
   "source": [
    "grades = np.loadtxt(\n",
    "    'grades.csv',\n",
    "    delimiter=',',\n",
    "    # dtype=[\n",
    "    #     ('H1', int),\n",
    "    #     ('H2', int),\n",
    "    #     ('H3', int),\n",
    "    #     ('M1', int),\n",
    "    #     ('H4', int),\n",
    "    #     ('H5', int),\n",
    "    #     ('H6', int),\n",
    "    #     ('M2', int),\n",
    "    #     ('H7', int),\n",
    "    #     ('H8', int),\n",
    "    #     ('M3', int),\n",
    "    #     ('H9', int),\n",
    "    #     ('F', int)\n",
    "    # ]\n",
    "    dtype=int,\n",
    ")\n",
    "grades_max = grades[-1]\n",
    "grades = grades[:-1]  # truncate to remove max scores\n",
    "\n",
    "_t = [\n",
    "    'H1',\n",
    "    'H2',\n",
    "    'H3',\n",
    "    'M1',\n",
    "    'H4',\n",
    "    'H5',\n",
    "    'H6',\n",
    "    'M2',\n",
    "    'H7',\n",
    "    'H8',\n",
    "    'M3',\n",
    "    'H9',\n",
    "    'F'\n",
    "]\n",
    "t = {_n: i for (i, _n) in enumerate(_t)}"
   ]
  },
  {
   "cell_type": "code",
   "execution_count": 3,
   "metadata": {},
   "outputs": [
    {
     "name": "stdout",
     "output_type": "stream",
     "text": [
      "[[18 21 15 26 18 16 25 21 18 28 36  8 33]\n",
      " [19 19 14 28 18 13 23 36 18 24 28  4 22]]\n",
      "[20 24 16 44 18 18 26 44 20 30 42 10 35]\n"
     ]
    }
   ],
   "source": [
    "print(grades[:2])\n",
    "print(grades_max)\n"
   ]
  },
  {
   "cell_type": "code",
   "execution_count": 4,
   "metadata": {},
   "outputs": [],
   "source": [
    "grades_percent = grades / grades_max * 100"
   ]
  },
  {
   "cell_type": "code",
   "execution_count": 5,
   "metadata": {},
   "outputs": [],
   "source": [
    "grades_means = np.array([\n",
    "    np.mean(grades_percent[:, [t[f'H{i}'] for i in range(1, 10)]], axis=1),\n",
    "    np.mean(grades_percent[:, [t[f'M{i}'] for i in range(1, 4)]], axis=1),\n",
    "    np.mean(grades_percent[:, [t['F']]], axis=1)\n",
    "]).T"
   ]
  },
  {
   "cell_type": "markdown",
   "metadata": {},
   "source": [
    "### Part b"
   ]
  },
  {
   "cell_type": "code",
   "execution_count": 6,
   "metadata": {},
   "outputs": [],
   "source": [
    "Y = grades_means[:, 2]  # final score\n",
    "X = np.vstack([np.ones((32)), grades_means[:, 0], grades_means[:, 1]]).T  # cludge but works"
   ]
  },
  {
   "cell_type": "code",
   "execution_count": 7,
   "metadata": {},
   "outputs": [
    {
     "name": "stdout",
     "output_type": "stream",
     "text": [
      "[3.27836543 0.03087494 0.98617653] 270.3011358660822\n"
     ]
    }
   ],
   "source": [
    "beta = np.linalg.inv(X.T @ X) @ X.T @ Y\n",
    "S_sq = np.sum((Y - X @ beta)**2) / (len(Y) - len(beta))  # RSS / n - p\n",
    "\n",
    "print(beta, S_sq)\n"
   ]
  },
  {
   "cell_type": "markdown",
   "metadata": {},
   "source": [
    "### Part c"
   ]
  },
  {
   "cell_type": "markdown",
   "metadata": {},
   "source": [
    "Note about the below: we *must* add degenerate dimensions to `A` (i.e. `A = [[...]]`) in order to correctly calculate the dot product!"
   ]
  },
  {
   "cell_type": "code",
   "execution_count": 8,
   "metadata": {},
   "outputs": [],
   "source": [
    "# recall A is q x p (size)\n",
    "A = np.array([[0, -1, 1]])  # corresponding to beta_1 = beta_2, betas 0-indexed\n",
    "_theta = np.eye(len(beta)) - (A @ np.linalg.inv(X.T @ X) @ A.T)**(-1) * np.linalg.inv(X.T @ X) @ A.T @ A\n",
    "beta_H0 = _theta @ beta\n"
   ]
  },
  {
   "cell_type": "code",
   "execution_count": 9,
   "metadata": {},
   "outputs": [
    {
     "name": "stdout",
     "output_type": "stream",
     "text": [
      "[11.65306176  0.4446182   0.4446182 ]\n",
      "[3.27836543 0.03087494 0.98617653]\n"
     ]
    }
   ],
   "source": [
    "print(beta_H0)\n",
    "print(beta)\n"
   ]
  },
  {
   "cell_type": "code",
   "execution_count": 10,
   "metadata": {},
   "outputs": [
    {
     "name": "stdout",
     "output_type": "stream",
     "text": [
      "7.724868594408009\n",
      "0.39031281398453693\n"
     ]
    }
   ],
   "source": [
    "import scipy.stats\n",
    "\n",
    "df1 = 1  # q\n",
    "df2 = len(Y) - len(beta)  # n - p\n",
    "\n",
    "_rss = np.sum((Y - X @ beta)**2)\n",
    "_rss_H0 = np.sum((Y - X @ beta_H0)**2)\n",
    "p = scipy.stats.f.cdf((_rss_H0 - _rss) / _rss, df1, df2)\n",
    "\n",
    "F = ((_rss_H0 - _rss)/ _rss) * (df2 / df1)\n",
    "# test statistic at %5 significance level is 4.18\n",
    "# if F > 4.18, reject null hypothesis\n",
    "# print(df1, df2)\n",
    "        \n",
    "print(F)\n",
    "print(p)\n"
   ]
  },
  {
   "cell_type": "code",
   "execution_count": 11,
   "metadata": {},
   "outputs": [
    {
     "data": {
      "image/png": "[encoded data removed]",
      "text/plain": [
       "<Figure size 640x480 with 1 Axes>"
      ]
     },
     "metadata": {},
     "output_type": "display_data"
    }
   ],
   "source": [
    "import matplotlib.pyplot as plt \n",
    "\n",
    "# Part 1: Make circle of radius sqrt(chi_sq_(a))\n",
    " \n",
    "# set angle linspace, varies from 0-2pi \n",
    "angle = np.linspace( 0 , 2 * np.pi , 150 ) \n",
    "\n",
    "# we know that the ball has radius sqrt(chi-sq_(alpha = 0.05)_(p=3)\n",
    "radius = np.sqrt(.352)\n",
    "\n",
    "# parameterize circle by x = r*cos(theta) , y = r*sin(theta)\n",
    "x =  radius * np.cos( angle ) \n",
    "y = radius * np.sin( angle )\n",
    "\n",
    "x= x.reshape(1,-1)\n",
    "y = y.reshape(1, -1)\n",
    "transformed_circle_input = np.concatenate((x,y), axis=0)\n",
    "\n",
    "\n",
    "\n",
    "# Part 2: Transform the circle into an ellipse via multiplication by truncated sigma^{-1/2} matrix.\n",
    "# set scaling matrix: S * (X'X)^(-1/2) \n",
    "\n",
    "# helper function to diagonalize a matrix \n",
    "def diagonalize(M):\n",
    "    e_val, e_vec = np.linalg.eig(M)\n",
    "    P = e_vec\n",
    "    D = e_val\n",
    "    return P, D\n",
    "\n",
    "\n",
    "P, D = diagonalize(np.transpose(X) @ X)\n",
    "\n",
    "sig_neg_half = P @ np.diag(D**(-1/2)) @ np.transpose(P)\n",
    "\n",
    "# turn circle into ellipse via (truncated) matrix multiplication\n",
    "transformed_circle = np.dot(sig_neg_half[1:, 1:],transformed_circle_input)\n",
    "\n",
    "# Part 3: Plot Ellipse and compare to the point (0,0)\n",
    "figure, axes = plt.subplots(1, 1) \n",
    "axes.plot(beta_H0[1] + transformed_circle[0,:], beta_H0[2] + transformed_circle[1,:])\n",
    "axes.plot(0,0, 'ro')\n",
    "axes.set_xlim([0, 0.5])\n",
    "axes.set_ylim([0, 0.5])\n",
    "axes.set_aspect( 1 ) \n"
   ]
  },
  {
   "cell_type": "markdown",
   "metadata": {},
   "source": [
    "Note, this confidence ellipsoid is very small- this is reasonable to expect because we tested whether or not homework and midterms grades are a predictor for the final or not (and they are). "
   ]
  }
 ],
 "metadata": {
  "kernelspec": {
   "display_name": "torch",
   "language": "python",
   "name": "python3"
  },
  "language_info": {
   "codemirror_mode": {
    "name": "ipython",
    "version": 3
   },
   "file_extension": ".py",
   "mimetype": "text/x-python",
   "name": "python",
   "nbconvert_exporter": "python",
   "pygments_lexer": "ipython3",
   "version": "3.10.14"
  }
 },
 "nbformat": 4,
 "nbformat_minor": 2
}
