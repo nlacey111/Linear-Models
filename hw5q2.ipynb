{
 "cells": [
  {
   "cell_type": "code",
   "execution_count": 1,
   "metadata": {},
   "outputs": [],
   "source": [
    "import numpy as np"
   ]
  },
  {
   "cell_type": "code",
   "execution_count": 10,
   "metadata": {},
   "outputs": [],
   "source": [
    "X = np.array([[1, 0], [1,0], [1,0], [1,0], [0,1], [0,1], [0,1], [0,1], [0,1]])\n",
    "Y = np.array([41, 49, 45, 41, 51, 48, 46, 48, 47])\n",
    "beta = np.linalg.inv(X.T @ X) @ X.T @ Y\n"
   ]
  },
  {
   "cell_type": "code",
   "execution_count": 6,
   "metadata": {},
   "outputs": [
    {
     "name": "stdout",
     "output_type": "stream",
     "text": [
      "[46.22222222 46.22222222]\n",
      "[44. 48.]\n"
     ]
    }
   ],
   "source": [
    "A = np.array([[1, -1]])  # corresponding to beta_1 = beta_2, betas 0-indexed\n",
    "_theta = np.eye(len(beta)) - (A @ np.linalg.inv(X.T @ X) @ A.T)**(-1) * np.linalg.inv(X.T @ X) @ A.T @ A\n",
    "beta_H0 = _theta @ beta\n",
    "\n",
    "print(beta_H0)\n",
    "print(beta)"
   ]
  },
  {
   "cell_type": "code",
   "execution_count": 7,
   "metadata": {},
   "outputs": [],
   "source": [
    "# calculate 2 norm of y - X beta\n",
    "_rss = np.linalg.norm(Y - X @ beta)**2\n",
    "_rss_H0 = np.linalg.norm(Y - X @ beta_H0)**2\n"
   ]
  },
  {
   "cell_type": "code",
   "execution_count": 8,
   "metadata": {},
   "outputs": [
    {
     "name": "stdout",
     "output_type": "stream",
     "text": [
      "RSS: 58.00000000000001, RSS_H0: 93.55555555555559\n"
     ]
    }
   ],
   "source": [
    "print(f\"RSS: {_rss}, RSS_H0: {_rss_H0}\")"
   ]
  },
  {
   "cell_type": "code",
   "execution_count": 9,
   "metadata": {},
   "outputs": [
    {
     "name": "stdout",
     "output_type": "stream",
     "text": [
      "F: 4.291187739463604\n"
     ]
    }
   ],
   "source": [
    "# calculate f test statistic \n",
    "F = ((_rss_H0 - _rss) / _rss )*7\n",
    "print(f\"F: {F}\")\n"
   ]
  }
 ],
 "metadata": {
  "kernelspec": {
   "display_name": "torch",
   "language": "python",
   "name": "python3"
  },
  "language_info": {
   "codemirror_mode": {
    "name": "ipython",
    "version": 3
   },
   "file_extension": ".py",
   "mimetype": "text/x-python",
   "name": "python",
   "nbconvert_exporter": "python",
   "pygments_lexer": "ipython3",
   "version": "3.10.14"
  }
 },
 "nbformat": 4,
 "nbformat_minor": 2
}
